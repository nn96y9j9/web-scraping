{
 "cells": [
  {
   "cell_type": "code",
   "execution_count": null,
   "id": "5755c6ea",
   "metadata": {},
   "outputs": [],
   "source": [
    "import requests as req\n",
    "from bs4 import BeautifulSoup as bs\n",
    "import os\n",
    "import re"
   ]
  },
  {
   "cell_type": "code",
   "execution_count": null,
   "id": "c9ab7d1f",
   "metadata": {},
   "outputs": [],
   "source": [
    "folderPath = 'ebook'\n",
    "if not os.path.exists(folderPath):\n",
    "    os.makedirs(folderPath)"
   ]
  },
  {
   "cell_type": "code",
   "execution_count": null,
   "id": "2557a6ac",
   "metadata": {},
   "outputs": [],
   "source": [
    "url = 'https://www.gutenberg.org/browse/languages/zh'\n",
    "res = req.get(url)\n",
    "soup = bs(res.text,'lxml')\n",
    "titles = soup.select('li.pgdbetext a')\n",
    "book = {}\n",
    "count = 0\n",
    "for i in titles:\n",
    "    if i.has_attr('href'):\n",
    "        link = i['href']\n",
    "    book = {'title':i.get_text(),'link':f'https://www.gutenberg.org{link}'}\n",
    "    url = book['link']\n",
    "    res = req.get(url)\n",
    "    res.encoding='utf-8'\n",
    "    soup = bs(res.text,'lxml')\n",
    "    for i in soup.select('td.unpadded.icon_save a.link'):\n",
    "        if i.get_text() == 'Plain Text UTF-8':\n",
    "            book_url = i['href']\n",
    "    url = f'https://www.gutenberg.org/{book_url}'\n",
    "    res = req.get(url)\n",
    "    res.encoding='utf-8'\n",
    "    soup =bs(res.text,'lxml')\n",
    "    txt = soup.find('p')\n",
    "    regex = r'[\\u4E00-\\u9FFF+《》，、。；]+'\n",
    "    content = \"\".join(re.findall(regex,str(txt)))\n",
    "    print(\"完成了< \" + book['title'] + \" >的抓取\")\n",
    "    try:\n",
    "        with open(f'{folderPath}/{book[\"title\"]}.txt','w',encoding='utf-8')as file:\n",
    "            file.write(content)\n",
    "            count += 1\n",
    "    except (FileNotFoundError,OSError):\n",
    "        print(book['title'] + '=>這本跳過')\n",
    "        continue\n",
    "    if count >= 200:\n",
    "    break"
   ]
  }
 ],
 "metadata": {
  "kernelspec": {
   "display_name": "Python 3 (ipykernel)",
   "language": "python",
   "name": "python3"
  },
  "language_info": {
   "codemirror_mode": {
    "name": "ipython",
    "version": 3
   },
   "file_extension": ".py",
   "mimetype": "text/x-python",
   "name": "python",
   "nbconvert_exporter": "python",
   "pygments_lexer": "ipython3",
   "version": "3.10.10"
  }
 },
 "nbformat": 4,
 "nbformat_minor": 5
}
