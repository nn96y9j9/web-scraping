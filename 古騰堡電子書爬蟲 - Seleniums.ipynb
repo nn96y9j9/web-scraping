{
 "cells": [
  {
   "cell_type": "code",
   "execution_count": null,
   "id": "2305beb7",
   "metadata": {},
   "outputs": [],
   "source": [
    "from selenium.webdriver.chrome.service import Service\n",
    "from selenium import webdriver\n",
    "from selenium.webdriver.common.by import By\n",
    "import requests as req\n",
    "from bs4 import BeautifulSoup as bs\n",
    "from pprint import pprint\n",
    "from time import sleep\n",
    "import re\n",
    "from selenium.common.exceptions import TimeoutException\n",
    "from selenium.webdriver.support.ui import WebDriverWait\n",
    "from selenium.webdriver.support import expected_conditions as EC\n",
    "from selenium.webdriver.common.by import By\n",
    "import os\n",
    "from selenium.common.exceptions import NoSuchElementException"
   ]
  },
  {
   "cell_type": "code",
   "execution_count": null,
   "id": "f498d0d6",
   "metadata": {},
   "outputs": [],
   "source": [
    "folderPath = 'ebooks'\n",
    "if not os.path.exists(folderPath):\n",
    "    os.makedirs(folderPath)"
   ]
  },
  {
   "cell_type": "code",
   "execution_count": null,
   "id": "cbd22ef6",
   "metadata": {},
   "outputs": [],
   "source": [
    "my_service = Service(executable_path=\"./chromedriver.exe\")\n",
    "url = 'https://www.gutenberg.org/browse/languages/zh'\n",
    "count = 0\n",
    "for i in range(0,400):\n",
    "    driver = webdriver.Chrome(service=my_service)\n",
    "    driver.get(url)\n",
    "    sleep(1)\n",
    "    language = driver.find_elements(By.CSS_SELECTOR,'div.pgdbbylanguage li.pgdbetext a')[i]\n",
    "    language.click()\n",
    "    sleep(1)\n",
    "    # 抓檔名\n",
    "    title = driver.find_element(By.CSS_SELECTOR,'div#content h1')\n",
    "    soupTitle = bs(title.text,'lxml')\n",
    "    try:\n",
    "        with open(folderPath + '/' + soupTitle.text +'.txt' ,'a')as file:\n",
    "            file.write(\"\")\n",
    "\n",
    "        #抓內文\n",
    "        regex = r'[\\u4E00-\\u9FFF]'\n",
    "        try:\n",
    "            enter = driver.find_element(By.LINK_TEXT,'Plain Text UTF-8')\n",
    "            enter.click()\n",
    "            try:\n",
    "                WebDriverWait(driver, 10).until(\n",
    "                    EC.presence_of_all_elements_located(\n",
    "                        (By.CSS_SELECTOR,'pre')\n",
    "                    )\n",
    "                )\n",
    "                content = driver.find_element(By.CSS_SELECTOR,'pre')\n",
    "                chinese_text = \"\".join(re.findall(regex,content.text))\n",
    "\n",
    "            except TimeoutException:\n",
    "                print(\"等待逾時\")\n",
    "\n",
    "            # 寫成檔案\n",
    "            with open(folderPath + '/' + soupTitle.text +'.txt' ,'a',encoding='utf-8')as file:\n",
    "                file.write(chinese_text)\n",
    "            count += 1    \n",
    "            if count > 230:\n",
    "                print(\"完成了\")\n",
    "                break\n",
    "        except NoSuchElementException:\n",
    "            continue\n",
    "    except FileNotFoundError:\n",
    "        continue\n",
    "    finally:\n",
    "        driver.close()"
   ]
  }
 ],
 "metadata": {
  "kernelspec": {
   "display_name": "Python 3 (ipykernel)",
   "language": "python",
   "name": "python3"
  },
  "language_info": {
   "codemirror_mode": {
    "name": "ipython",
    "version": 3
   },
   "file_extension": ".py",
   "mimetype": "text/x-python",
   "name": "python",
   "nbconvert_exporter": "python",
   "pygments_lexer": "ipython3",
   "version": "3.10.10"
  }
 },
 "nbformat": 4,
 "nbformat_minor": 5
}
